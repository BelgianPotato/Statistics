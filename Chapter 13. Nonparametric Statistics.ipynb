{
 "cells": [
  {
   "cell_type": "markdown",
   "metadata": {},
   "source": [
    "# Content\n",
    "\n",
    "- Introduction\n",
    "- Advantages and disadvantages of nonparametric methods\n",
    "- Nonparametric tests\n",
    "    - Sign test\n",
    "    - Wilcoxon rank sum test\n",
    "    - Wilcoxon signed-rank test\n",
    "    - Kruskal-Wallis test\n",
    "    - Runs test\n",
    "\n"
   ]
  }
 ],
 "metadata": {
  "kernelspec": {
   "display_name": "Python 3",
   "language": "python",
   "name": "python3"
  },
  "language_info": {
   "codemirror_mode": {
    "name": "ipython",
    "version": 3
   },
   "file_extension": ".py",
   "mimetype": "text/x-python",
   "name": "python",
   "nbconvert_exporter": "python",
   "pygments_lexer": "ipython3",
   "version": "3.6.4"
  }
 },
 "nbformat": 4,
 "nbformat_minor": 2
}
