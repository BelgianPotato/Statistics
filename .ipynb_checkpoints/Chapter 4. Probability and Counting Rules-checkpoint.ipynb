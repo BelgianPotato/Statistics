{
 "cells": [
  {
   "cell_type": "markdown",
   "metadata": {},
   "source": [
    "# Notes\n",
    "After going through the chapter and exercises, I don't see how probabilities have a practical relevance for solving data science tasks.\n",
    "\n",
    "Problem statements such as \"how many possibilities of getting a full-house in a 5 card poker game\" do not involve data tables."
   ]
  },
  {
   "cell_type": "code",
   "execution_count": 2,
   "metadata": {},
   "outputs": [],
   "source": [
    "# Imports\n",
    "import pandas as pd\n",
    "import numpy as np\n",
    "import matplotlib.pyplot as plt"
   ]
  },
  {
   "cell_type": "markdown",
   "metadata": {},
   "source": [
    "# Content\n",
    "- Sample space and probability (possible outcomes and probability types)\n",
    "- Addition rule (probablity that mutually exclusive events A and B will occur)\n",
    "- Multiplication rule (independent events)\n",
    "- Conditional probability (dependent events)\n",
    "- Counting rule (number of possible outcomes)\n",
    "- Probability and counting rules (combined concepts, more difficult exercises)"
   ]
  },
  {
   "cell_type": "markdown",
   "metadata": {},
   "source": [
    "# 1. Sample space and probability\n",
    "**Sample space:** set of all possible outcomes of probability experiment.\n",
    "\n",
    "**Event:** set of outcome of probability.\n",
    "\n",
    "**The sum of all probabilities is always 1!!!**"
   ]
  },
  {
   "cell_type": "markdown",
   "metadata": {},
   "source": [
    "## Classic probability\n",
    "Assumes that all outcomes in sample space are **equally likely** to occur.\n",
    "\n",
    "There is no need to perform an experiment to know the probabilities.\n",
    "\n",
    "### Formula\n",
    "\n",
    "P(E) = n(E)/n(S)\n",
    "\n",
    "E = event\n",
    "\n",
    "S = sample space\n",
    "\n",
    "### Example\n",
    "\n",
    "\n",
    "## Emperical probability\n",
    "Outcomes in sample space are **NOT equally likely** to occur.\n",
    "\n",
    "Probability relies on actual experience.\n",
    "\n",
    "### Formula\n",
    "\n",
    "P(E) = f/n\n",
    "\n",
    "E = event\n",
    "\n",
    "f = frequency of class\n",
    "\n",
    "n = total frequency of distribution\n",
    "\n",
    "### Example\n",
    "\n",
    "**Law of large numbers:** as a sample size grows, its mean gets closer to the average of the whole population."
   ]
  },
  {
   "cell_type": "markdown",
   "metadata": {},
   "source": [
    "# 2. Addition rule\n",
    "## Mutually exclusive\n",
    "P(A or B) = P(A) + P(B)\n",
    "\n",
    "## Not mutually exclusive\n",
    "P(A or B) = P(A) + P(B) - P(A and B)"
   ]
  },
  {
   "cell_type": "code",
   "execution_count": 11,
   "metadata": {},
   "outputs": [
    {
     "data": {
      "text/html": [
       "<div>\n",
       "<style scoped>\n",
       "    .dataframe tbody tr th:only-of-type {\n",
       "        vertical-align: middle;\n",
       "    }\n",
       "\n",
       "    .dataframe tbody tr th {\n",
       "        vertical-align: top;\n",
       "    }\n",
       "\n",
       "    .dataframe thead tr th {\n",
       "        text-align: left;\n",
       "    }\n",
       "\n",
       "    .dataframe thead tr:last-of-type th {\n",
       "        text-align: right;\n",
       "    }\n",
       "</style>\n",
       "<table border=\"1\" class=\"dataframe\">\n",
       "  <thead>\n",
       "    <tr>\n",
       "      <th>b</th>\n",
       "      <th colspan=\"2\" halign=\"left\">one</th>\n",
       "      <th colspan=\"2\" halign=\"left\">two</th>\n",
       "    </tr>\n",
       "    <tr>\n",
       "      <th>c</th>\n",
       "      <th>dull</th>\n",
       "      <th>shiny</th>\n",
       "      <th>dull</th>\n",
       "      <th>shiny</th>\n",
       "    </tr>\n",
       "    <tr>\n",
       "      <th>a</th>\n",
       "      <th></th>\n",
       "      <th></th>\n",
       "      <th></th>\n",
       "      <th></th>\n",
       "    </tr>\n",
       "  </thead>\n",
       "  <tbody>\n",
       "    <tr>\n",
       "      <th>bar</th>\n",
       "      <td>1</td>\n",
       "      <td>2</td>\n",
       "      <td>1</td>\n",
       "      <td>0</td>\n",
       "    </tr>\n",
       "    <tr>\n",
       "      <th>foo</th>\n",
       "      <td>2</td>\n",
       "      <td>2</td>\n",
       "      <td>1</td>\n",
       "      <td>2</td>\n",
       "    </tr>\n",
       "  </tbody>\n",
       "</table>\n",
       "</div>"
      ],
      "text/plain": [
       "b    one        two      \n",
       "c   dull shiny dull shiny\n",
       "a                        \n",
       "bar    1     2    1     0\n",
       "foo    2     2    1     2"
      ]
     },
     "execution_count": 11,
     "metadata": {},
     "output_type": "execute_result"
    }
   ],
   "source": [
    "# Compute a cross-tabulation of two (or more) factors.\n",
    "foo, bar = 'foo', 'bar'\n",
    "one, two = 'one', 'two'\n",
    "dull, shiny = 'dull', 'shiny'\n",
    "a = np.array([foo, foo, foo, foo, bar, bar, bar, bar, foo, foo, foo], dtype=object)\n",
    "b = np.array([one, one, one, two, one, one, one, two, two, two, one], dtype=object)\n",
    "c = np.array([dull, dull, shiny, dull, dull, shiny, shiny, dull, shiny, shiny, shiny], dtype=object)\n",
    "# np.random.randint(2, size=10)\n",
    "\n",
    "pd.crosstab(a, [b, c], rownames=['a'], colnames=['b', 'c'])"
   ]
  },
  {
   "cell_type": "markdown",
   "metadata": {},
   "source": [
    "# 3. Multiplication rule\n",
    "Find probability of >= 2 events that occur in a sequence.\n",
    "\n",
    "## Independent events\n",
    "If A and B are **independent events**, meaning if A occurs it does not affect the probability of B occuring.\n",
    "\n",
    "### Formula\n",
    "P(A and B) = P(A) . p(B)\n",
    "\n",
    "### Example\n",
    "Take card from deck **with replacement**.\n",
    "\n",
    "\n",
    "## Dependent events\n",
    "If A and B are **dependent events**, meaning if A occurs it does affect the probability of B occuring.\n",
    "\n",
    "### Formula\n",
    "P(A and B) = P(A) . P(B|A)\n",
    "\n",
    "A = users having an **A**pple laptop\n",
    "\n",
    "B = users having a key**B**oard\n",
    "\n",
    "### Example\n",
    "Take card from deck **without** replacement.\n",
    "\n",
    "- Probability of hight grades in school and scholarship.\n",
    "- Probability of low grades in school and scholarship.\n",
    "\n",
    "## Conditional probability\n",
    "Problem statement contains \"given that...\"\n",
    "\n",
    "### Formula\n",
    "Probability of B occuring given that A occured is:\n",
    "\n",
    "P(B|A) = P(A and B)/P(A)\n",
    "\n",
    "### Example\n",
    "Take card from deck **without** replacement.\n",
    "\n",
    "\n",
    "## \"At least 1\"\n",
    "For this case, find probability of opposite (= up to at least value) and do:\n",
    "\n",
    "P(E) = 1 - P(Ē)"
   ]
  },
  {
   "cell_type": "markdown",
   "metadata": {},
   "source": [
    "# 4. Counting rules\n",
    "Find number of all possible outcomes n."
   ]
  },
  {
   "cell_type": "markdown",
   "metadata": {},
   "source": [
    "## a) Fundamental counting rule\n",
    "k1, k2, k2... kn\n",
    "Simply multiply probability of events.\n",
    "\n",
    "### Formula\n",
    "Factorial notation:\n",
    "\n",
    "n! = n(n-1)(n-2)... 1\n",
    "\n",
    "0! = 1\n",
    "\n",
    "### Example\n",
    "How many different types of paint can be made if select 1 color, 1 type, 1 texture, 1 use?"
   ]
  },
  {
   "cell_type": "markdown",
   "metadata": {},
   "source": [
    "## b) Permutation\n",
    "Arrangement of n objects **in specifc order**.\n",
    "\n",
    "AB is different from BA.\n",
    "\n",
    "### Formula\n",
    "nPr = n!/(n-r)!\n",
    "\n",
    "### Example\n",
    "How many ways can objects be selected from n objects?\n",
    "\n",
    "Company has pool of 7 consultants, how many ways can select 1 supply chain project and 1 IT project? 7P2."
   ]
  },
  {
   "cell_type": "markdown",
   "metadata": {},
   "source": [
    "## c) Combination\n",
    "Selection of distinct objects **without regarding the order**.\n",
    "\n",
    "AB is the same as BA.\n",
    "\n",
    "### Formula\n",
    "nCr = n!/(n-r)!r!\n",
    "\n",
    "### Example\n",
    "How many ways can objects be selected from n objects **if order does not matter**?"
   ]
  },
  {
   "cell_type": "markdown",
   "metadata": {},
   "source": [
    "# 5. Probability and counting rules\n",
    "Combine both concepts.\n",
    "\n",
    "## Steps\n",
    "1. Find denominator (number of ways to do the task) using counting rules (combination/permutation)\n",
    "2. Find numerator using counting rules (combination/permutation)\n",
    "3. Plot into probability formula P(E) = f/n.\n",
    "\n",
    "## Example\n",
    "A box contains 24 laptops, 4 are defective. If 4 are sold at random, find following probabilities.\n",
    "\n",
    "There are 24C4 ways of selling laptops. This is the denominator.\n",
    "\n",
    "- P(exactly 2 defective) = 4C2 . 20C2 / 24C4\n",
    "- P(0 defective) = 20C4/24C4\n",
    "- P(all defective) = 4C4/24C4 = 1/24C4\n",
    "- P(at least 1 defective) = 1 - P(0 defective) = 1 - 20C4/24C4"
   ]
  }
 ],
 "metadata": {
  "kernelspec": {
   "display_name": "Python 3",
   "language": "python",
   "name": "python3"
  },
  "language_info": {
   "codemirror_mode": {
    "name": "ipython",
    "version": 3
   },
   "file_extension": ".py",
   "mimetype": "text/x-python",
   "name": "python",
   "nbconvert_exporter": "python",
   "pygments_lexer": "ipython3",
   "version": "3.6.4"
  }
 },
 "nbformat": 4,
 "nbformat_minor": 2
}
