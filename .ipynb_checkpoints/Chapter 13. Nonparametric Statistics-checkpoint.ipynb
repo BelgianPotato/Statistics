{
 "cells": [
  {
   "cell_type": "markdown",
   "metadata": {},
   "source": [
    "# Content\n",
    "\n",
    "- Introduction\n",
    "- Advantages and disadvantages of nonparametric methods\n",
    "- Nonparametric tests\n",
    "    - Sign test\n",
    "    - Wilcoxon rank sum test\n",
    "    - Wilcoxon signed-rank test\n",
    "    - Kruskal-Wallis test\n",
    "    - Runs test\n",
    "- Spearman rank correlation coefficient"
   ]
  },
  {
   "cell_type": "code",
   "execution_count": 10,
   "metadata": {},
   "outputs": [],
   "source": [
    "# Imports\n",
    "from scipy import stats\n",
    "import matplotlib.pyplot as plt\n",
    "from statsmodels.stats.descriptivestats import sign_test\n",
    "from statsmodels.formula.api import ols\n",
    "import numpy as np\n",
    "import pandas as pd\n",
    "import math\n",
    "import pylab\n",
    "import seaborn as sns\n",
    "import os\n",
    "\n",
    "# Constants\n",
    "INPUT_DIR = r'Input Data'"
   ]
  },
  {
   "cell_type": "code",
   "execution_count": 11,
   "metadata": {},
   "outputs": [],
   "source": [
    "# Generic functions\n",
    "\n",
    "def preferred_rounding(v, decimals=2):\n",
    "    return str(round(v, decimals))"
   ]
  },
  {
   "cell_type": "markdown",
   "metadata": {},
   "source": [
    "# Introduction\n",
    "\n",
    "## Nonparametric statistics\n",
    "Parametrics tests (e.g. z test, t test, F test) involve assumptions about the sample population (i.e. normal distribution).\n",
    "\n",
    "**But what if the sample population is NOT normally distributed?**\n",
    "\n",
    "In this case we can use nonparametric (distribution-free) tests.\n",
    "\n",
    "Example of tests are:\n",
    "- Sign test\n",
    "- Wilcoxon rank sum test\n",
    "- Wilcoxon signed-rank test\n",
    "- Kruskal-Wallis test\n",
    "- Runs test\n",
    "\n",
    "## Application\n",
    "\n",
    "Determine relationship between ranking of 2 judges and jump ability of 10 freestyle skiers.\n",
    "\n",
    "Determine if the variation of Ketchup amount in 40 ouces bottles is by chance or due to a malfunction.\n",
    "\n",
    "## Assumptions\n",
    "\n",
    "1. Data randomly obtained.\n",
    "2. If multiple samples, than must be independent.\n",
    "\n",
    "## Ranking\n",
    "Nonparametric tests mostly involve ranking of data (i.e. ordinal variables).\n",
    "\n",
    "If multiple values have the same rank, then we take average to get the same total.\n",
    "\n",
    "\n",
    "## Advantages and disadvantages of nonparametric methods\n",
    "\n",
    "Even though nonparametric tests can be used in place of parametric counter parts, we cannot assume they are always a better alternative.\n",
    "\n",
    "### Advantages\n",
    "1. Can be used when sample population is not normally distributed.\n",
    "2. Can be used when data is nominal (gender, eye color, etc.) or ordinal (everything placed into some kind of order or scale).\n",
    "3. Can be used to test hypotheses that do not involve population parameters.\n",
    "\n",
    "### Disadvantages\n",
    "1. **Less sensitive** than parametric tests. Therefore larger differences needed before hypothesis can be rejected.\n",
    "2. **Use less information** than parametric tests. E.g. the sign test requires to check only if values are above or below the median, not by how much.\n",
    "3. **Less efficient** than parametric tests. Therefore larger sample sizes are needed to overcome the loss of information."
   ]
  },
  {
   "cell_type": "markdown",
   "metadata": {},
   "source": [
    "# Tests\n",
    "\n",
    "## Sign test\n",
    "\n",
    "### Single-sample sign test\n",
    "\n",
    "#### Definition\n",
    "\n",
    "Simplest nonparametric test that involves comparing the sample values with the conjectured median and count the signs.\n",
    "Conjecture means conclusion formed on the basis of incomplete information.\n",
    "\n",
    "We use this test instead of the t test if sample size <= 25. If the sample size > 25, then use z test as it does not require a normal distribution with large samples.\n",
    "\n",
    "H0 is true if the number of + ≈ -.\n",
    "\n",
    "#### Implementation"
   ]
  },
  {
   "cell_type": "code",
   "execution_count": 43,
   "metadata": {},
   "outputs": [],
   "source": [
    "def compute_single_sample_sign_test(\n",
    "    sample_list,\n",
    "    median=0,\n",
    "    tail='two-tailed',\n",
    "    alpha=0.05,\n",
    "):\n",
    "    \n",
    "    if tail == 'two-tailed':\n",
    "        operator = '≠'\n",
    "        operator_label = 'different from'\n",
    "    elif tail == 'right-tailed':\n",
    "        operator = '>'\n",
    "        operator_label = 'more than'\n",
    "    elif tail == 'left-tailed':\n",
    "        operator = '<'\n",
    "        operator_label = 'less than'\n",
    "       \n",
    "    print('H0: median = {}'.format(str(median)))\n",
    "    print('H1: median {} {} (claim)'.format(operator, str(median)))\n",
    "    \n",
    "    m, pvalue = sign_test(sample_list, mu0=median)\n",
    "    print('p-value =', preferred_rounding(pvalue, decimals=4))\n",
    "    \n",
    "    if pvalue <= alpha:\n",
    "        print('Reject H0, median is {} {}.'.format(operator_label, str(median)))\n",
    "    else:\n",
    "        print('Do not reject H0, median is NOT {} {}.'.format(operator_label, str(median)))"
   ]
  },
  {
   "cell_type": "code",
   "execution_count": 46,
   "metadata": {},
   "outputs": [
    {
     "name": "stdout",
     "output_type": "stream",
     "text": [
      "H0: median = 40\n",
      "H1: median ≠ 40 (claim)\n",
      "p-value = 0.0075\n",
      "Reject H0, median is different from 40.\n"
     ]
    }
   ],
   "source": [
    "# Snow cone sales\n",
    "# Want to find out if median number of sells per day is 40.\n",
    "# Alpha 0.05.\n",
    "# p-value = 0.0075 as confirmed in the text book. And we can reject H0.\n",
    "\n",
    "snow_cone_sales_list = [\n",
    "    18, 43, 40, 16, 22,\n",
    "    30, 29, 32, 37, 36,\n",
    "    39, 34, 39, 45, 28,\n",
    "    36, 40, 34, 39, 52,\n",
    "]\n",
    "compute_single_sample_sign_test(\n",
    "    snow_cone_sales_list,\n",
    "    median=40,\n",
    "    alpha=0.05,\n",
    ")"
   ]
  },
  {
   "cell_type": "code",
   "execution_count": 42,
   "metadata": {},
   "outputs": [
    {
     "name": "stdout",
     "output_type": "stream",
     "text": [
      "H0: median = 11\n",
      "H1: median ≠ 11 (claim)\n",
      "p-value = 0.0\n",
      "Reject H0, median is different from 11.\n"
     ]
    },
    {
     "data": {
      "image/png": "[encoded data removed]",
      "text/plain": [
       "<Figure size 432x288 with 1 Axes>"
      ]
     },
     "metadata": {},
     "output_type": "display_data"
    }
   ],
   "source": [
    "# Clean air\n",
    "# Check if median number of days city below EPA standards is 11 days.\n",
    "# Alpha 0.05.\n",
    "\n",
    "below_epa_list = [\n",
    "    15, 14, 1, 9, 0, 3, 3, 1, 10, 8,\n",
    "    6, 16, 21, 22, 3, 19, 16, 5, 23, 13,\n",
    "]\n",
    "compute_single_sample_sign_test(\n",
    "    snow_cone_sales_list,\n",
    "    median=11,\n",
    "    tail='two-tailed',\n",
    "    alpha=0.05,\n",
    ")\n",
    "\n",
    "plt.hist(below_epa_list)\n",
    "plt.show()"
   ]
  },
  {
   "cell_type": "markdown",
   "metadata": {},
   "source": [
    "### Paired-sample sign test\n",
    "\n",
    "#### Definition\n",
    "\n",
    "Test sample means in the comparison of two dependent samples.\n",
    "\n",
    "Mainly for **before and after tests**, however it is less powerful than the Wilcoxon signed-rank test.\n",
    "\n",
    "\n",
    "#### Implementation\n",
    "\n",
    "Check Wilcoxon signed-rank test instead."
   ]
  },
  {
   "cell_type": "markdown",
   "metadata": {},
   "source": [
    "## Wilcoxon rank sum test\n",
    "\n",
    "### Definition\n",
    "\n"
   ]
  },
  {
   "cell_type": "code",
   "execution_count": 34,
   "metadata": {},
   "outputs": [],
   "source": [
    "def compute_wilcoxon_signed_rank_test(\n",
    "    array_before,\n",
    "    array_after,\n",
    "    tail='two-tailed',\n",
    "    alpha=0.05,\n",
    "):\n",
    "    r\"\"\"\n",
    "    The Wilcoxon signed-rank test tests the null hypothesis that two related paired samples come from the same distribution.\n",
    "    In particular, it tests whether the distribution of the differences x - y is symmetric about zero. \n",
    "    It is a non-parametric version of the paired T-test.\n",
    "    \"\"\"\n",
    "    if tail == 'two-tailed':\n",
    "        operator = '≠'\n",
    "        operator_label = 'different from'\n",
    "    elif tail == 'right-tailed':\n",
    "        operator = '>'\n",
    "        operator_label = 'more than'\n",
    "    elif tail == 'left-tailed':\n",
    "        operator = '<'\n",
    "        operator_label = 'less than'\n",
    "       \n",
    "    print('H0: before = after')\n",
    "    print('H1: before {} after (claim)'.format(operator))\n",
    "    \n",
    "    stat, pvalue = stats.wilcoxon(array_before, array_after, zero_method='wilcox', correction=False)\n",
    "    print('p-value =', preferred_rounding(pvalue, decimals=3))\n",
    "    \n",
    "    if pvalue <= alpha:\n",
    "        print('Reject H0, before is {} after.'.format(operator_label))\n",
    "    else:\n",
    "        print('Do not reject H0, before is NOT {} after.'.format(operator_label))\n",
    "        print('We do not have enough evidence to support the claim.')"
   ]
  },
  {
   "cell_type": "code",
   "execution_count": 35,
   "metadata": {},
   "outputs": [
    {
     "name": "stdout",
     "output_type": "stream",
     "text": [
      "H0: before = after\n",
      "H1: before > after (claim)\n",
      "p-value = 0.13\n",
      "Do not reject H0, before is NOT more than after.\n",
      "We do not have enough evidence to support the claim.\n"
     ]
    },
    {
     "name": "stderr",
     "output_type": "stream",
     "text": [
      "c:\\users\\gampe\\documents\\ve\\lib\\site-packages\\scipy\\stats\\morestats.py:2385: UserWarning: Warning: sample size too small for normal approximation.\n",
      "  warnings.warn(\"Warning: sample size too small for normal approximation.\")\n"
     ]
    }
   ],
   "source": [
    "df_ear_infections = pd.DataFrame({\n",
    "    'swimmer': list('ABCDEFGHIJ'),\n",
    "    'before': [3, 0, 5, 4, 2, 4, 3, 5, 2, 1],\n",
    "    'after': [2, 1, 4, 0, 1, 3, 1, 3, 2, 3],\n",
    "})\n",
    "\n",
    "compute_wilcoxon_signed_rank_test(\n",
    "    df_ear_infections['before'],\n",
    "    df_ear_infections['after'],\n",
    "    tail='right-tailed',\n",
    "    alpha=0.05,\n",
    ")\n"
   ]
  }
 ],
 "metadata": {
  "kernelspec": {
   "display_name": "Python 3",
   "language": "python",
   "name": "python3"
  },
  "language_info": {
   "codemirror_mode": {
    "name": "ipython",
    "version": 3
   },
   "file_extension": ".py",
   "mimetype": "text/x-python",
   "name": "python",
   "nbconvert_exporter": "python",
   "pygments_lexer": "ipython3",
   "version": "3.6.4"
  }
 },
 "nbformat": 4,
 "nbformat_minor": 2
}
