{
 "cells": [
  {
   "cell_type": "markdown",
   "metadata": {},
   "source": [
    "# Notes\n",
    "After going through the chapter and exercises, I don't see how probabilities have a practical relevance for solving data science tasks.\n",
    "\n",
    "Problem statements such as \"how many possibilities of getting a full-house in a 5 card poker game\" do not involve data tables."
   ]
  },
  {
   "cell_type": "markdown",
   "metadata": {},
   "source": [
    "# Content\n",
    "- Sample space and probability (possible outcomes and probability types)\n",
    "- Addition rule (probablity that mutually exclusive events A and B will occur)\n",
    "- Multiplication rule (independent events)\n",
    "- Conditional probability (dependent events)\n",
    "- Counting rule (number of possible outcomes)\n",
    "- Probability and counting rules (combined concepts, more difficult exercises)"
   ]
  },
  {
   "cell_type": "markdown",
   "metadata": {},
   "source": [
    "# 1. Sample space and probability\n",
    "**Sample space:** set of all possible outcomes of probability experiment.\n",
    "\n",
    "**Event:** set of outcome of probability."
   ]
  },
  {
   "cell_type": "markdown",
   "metadata": {},
   "source": [
    "## Classic probability\n",
    "Assumes that all outcomes in sample space are **equally likely** to occur.\n",
    "\n",
    "There is no need to perform an experiment to know the probabilities.\n",
    "\n",
    "### Formula\n",
    "\n",
    "P(E) = n(E)/n(S)\n",
    "\n",
    "E = event\n",
    "\n",
    "S = sample space\n",
    "\n",
    "### Example\n",
    "\n",
    "\n",
    "## Emperical probability\n",
    "Outcomes in sample space are **NOT equally likely** to occur.\n",
    "\n",
    "Probability relies on actual experience.\n",
    "\n",
    "### Formula\n",
    "\n",
    "P(E) = f/n\n",
    "\n",
    "E = event\n",
    "\n",
    "f = frequency of class\n",
    "\n",
    "n = total frequency of distribution\n",
    "\n",
    "### Example\n",
    "\n",
    "**Law of large numbers:** as a sample size grows, its mean gets closer to the average of the whole population."
   ]
  },
  {
   "cell_type": "markdown",
   "metadata": {},
   "source": [
    "# 2. Addition rule\n",
    "When multiple events are mutually exclusive, the addition rule helps to calculate probability of A or B occur."
   ]
  },
  {
   "cell_type": "markdown",
   "metadata": {},
   "source": [
    "# 3. Multiplication rule\n",
    "If A and B are **independent events**"
   ]
  }
 ],
 "metadata": {
  "kernelspec": {
   "display_name": "Python 3",
   "language": "python",
   "name": "python3"
  },
  "language_info": {
   "codemirror_mode": {
    "name": "ipython",
    "version": 3
   },
   "file_extension": ".py",
   "mimetype": "text/x-python",
   "name": "python",
   "nbconvert_exporter": "python",
   "pygments_lexer": "ipython3",
   "version": "3.6.4"
  }
 },
 "nbformat": 4,
 "nbformat_minor": 2
}
